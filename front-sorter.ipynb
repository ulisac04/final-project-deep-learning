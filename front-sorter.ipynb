{
 "cells": [
  {
   "cell_type": "markdown",
   "id": "15ee7a88-3e24-487b-8476-8691a02962c8",
   "metadata": {},
   "source": [
    "\n",
    "\n",
    "<div style=\"text-align:center;\">\n",
    "    <img src=\"angular.png\" alt=\"Logo de Angular\" width=\"300\" height=\"200\"  style=\"display:inline-block; margin:0 10px;\">\n",
    "    <img src=\"vue.png\" alt=\"Logo de Vue\" width=\"300\" height=\"200\"  style=\"display:inline-block; margin:0 10px;\">\n",
    "    <img src=\"react.png\" alt=\"Logo de React\" width=\"300\" height=\"200\"  style=\"display:inline-block; margin:0 10px;\">\n",
    "\">\r\n",
    "</div>\n"
   ]
  },
  {
   "cell_type": "code",
   "execution_count": 79,
   "id": "22082950-8470-4a98-aa8c-6138977f3c41",
   "metadata": {},
   "outputs": [],
   "source": [
    "import os\n",
    "import numpy as np\n",
    "from tensorflow.keras.models import Sequential\n",
    "from tensorflow.keras.layers import Dense, LSTM, Embedding, Bidirectional, Dropout\n",
    "from tensorflow.keras.preprocessing.text import Tokenizer\n",
    "from tensorflow.keras.preprocessing.sequence import pad_sequences"
   ]
  },
  {
   "cell_type": "code",
   "execution_count": 72,
   "id": "83168a17-64a8-46aa-8e12-82d1b2b6ba0e",
   "metadata": {},
   "outputs": [],
   "source": [
    "data_dir = 'datos'\n",
    "labels = ['angular', 'react', 'vue']\n",
    "texts = []\n",
    "labels_index = {label: i for i, label in enumerate(labels)}\n",
    "labelsData = []"
   ]
  },
  {
   "cell_type": "code",
   "execution_count": 73,
   "id": "273b3672-fbd0-4703-a2cf-7604d6e1e556",
   "metadata": {},
   "outputs": [],
   "source": [
    "for label in labels:\n",
    "    dir_name = os.path.join(data_dir, label)\n",
    "    for fname in os.listdir(dir_name):\n",
    "        with open(os.path.join(dir_name, fname), encoding='utf-8') as f:\n",
    "            texts.append(f.read())\n",
    "            labelsData.append(label)\n",
    "\n",
    "tokenizer = Tokenizer(num_words=100000)\n",
    "tokenizer.fit_on_texts(texts)\n",
    "sequences = tokenizer.texts_to_sequences(texts)\n",
    "word_index = tokenizer.word_index\n",
    "data = pad_sequences(sequences, maxlen=1000)"
   ]
  },
  {
   "cell_type": "markdown",
   "id": "edcd8567-28ea-484e-bd50-51c73e08d8bf",
   "metadata": {},
   "source": [
    "# Model 1\n",
    "### Bidirectional LSTM Text Classifier"
   ]
  },
  {
   "cell_type": "code",
   "execution_count": 74,
   "id": "46c6af9e-7581-4c04-a3dd-5000d25e3892",
   "metadata": {},
   "outputs": [],
   "source": [
    "model = Sequential()\n",
    "model.add(Embedding(100000, 128, input_length=10000))\n",
    "model.add(Bidirectional(LSTM(64)))\n",
    "model.add(Dense(len(labels), activation='softmax'))\n",
    "model.compile(optimizer='adam', loss='sparse_categorical_crossentropy', metrics=['accuracy'])"
   ]
  },
  {
   "cell_type": "code",
   "execution_count": 75,
   "id": "1b626385-bfac-4b00-8f53-c659b42fc6d0",
   "metadata": {},
   "outputs": [
    {
     "name": "stdout",
     "output_type": "stream",
     "text": [
      "Epoch 1/10\n",
      "\u001b[1m2/2\u001b[0m \u001b[32m━━━━━━━━━━━━━━━━━━━━\u001b[0m\u001b[37m\u001b[0m \u001b[1m6s\u001b[0m 561ms/step - accuracy: 0.2581 - loss: 1.0987\n",
      "Epoch 2/10\n",
      "\u001b[1m2/2\u001b[0m \u001b[32m━━━━━━━━━━━━━━━━━━━━\u001b[0m\u001b[37m\u001b[0m \u001b[1m1s\u001b[0m 600ms/step - accuracy: 0.4213 - loss: 1.0647\n",
      "Epoch 3/10\n",
      "\u001b[1m2/2\u001b[0m \u001b[32m━━━━━━━━━━━━━━━━━━━━\u001b[0m\u001b[37m\u001b[0m \u001b[1m1s\u001b[0m 596ms/step - accuracy: 0.4109 - loss: 1.0388\n",
      "Epoch 4/10\n",
      "\u001b[1m2/2\u001b[0m \u001b[32m━━━━━━━━━━━━━━━━━━━━\u001b[0m\u001b[37m\u001b[0m \u001b[1m1s\u001b[0m 562ms/step - accuracy: 0.4317 - loss: 1.0013\n",
      "Epoch 5/10\n",
      "\u001b[1m2/2\u001b[0m \u001b[32m━━━━━━━━━━━━━━━━━━━━\u001b[0m\u001b[37m\u001b[0m \u001b[1m1s\u001b[0m 556ms/step - accuracy: 0.4942 - loss: 0.9379\n",
      "Epoch 6/10\n",
      "\u001b[1m2/2\u001b[0m \u001b[32m━━━━━━━━━━━━━━━━━━━━\u001b[0m\u001b[37m\u001b[0m \u001b[1m1s\u001b[0m 561ms/step - accuracy: 0.4734 - loss: 0.8821\n",
      "Epoch 7/10\n",
      "\u001b[1m2/2\u001b[0m \u001b[32m━━━━━━━━━━━━━━━━━━━━\u001b[0m\u001b[37m\u001b[0m \u001b[1m1s\u001b[0m 603ms/step - accuracy: 0.4896 - loss: 0.8122\n",
      "Epoch 8/10\n",
      "\u001b[1m2/2\u001b[0m \u001b[32m━━━━━━━━━━━━━━━━━━━━\u001b[0m\u001b[37m\u001b[0m \u001b[1m1s\u001b[0m 621ms/step - accuracy: 0.7581 - loss: 0.7010\n",
      "Epoch 9/10\n",
      "\u001b[1m2/2\u001b[0m \u001b[32m━━━━━━━━━━━━━━━━━━━━\u001b[0m\u001b[37m\u001b[0m \u001b[1m1s\u001b[0m 600ms/step - accuracy: 0.9421 - loss: 0.5341\n",
      "Epoch 10/10\n",
      "\u001b[1m2/2\u001b[0m \u001b[32m━━━━━━━━━━━━━━━━━━━━\u001b[0m\u001b[37m\u001b[0m \u001b[1m2s\u001b[0m 642ms/step - accuracy: 0.9877 - loss: 0.4171\n"
     ]
    },
    {
     "data": {
      "text/plain": [
       "<keras.src.callbacks.history.History at 0x1a6633fa1b0>"
      ]
     },
     "execution_count": 75,
     "metadata": {},
     "output_type": "execute_result"
    }
   ],
   "source": [
    "model.fit(np.array(data), np.asarray([labels_index[label] for label in labelsData]), epochs=10, batch_size=32)"
   ]
  },
  {
   "cell_type": "markdown",
   "id": "f12b5b6e-35ba-4695-ae4e-99386744886a",
   "metadata": {},
   "source": [
    "# Model 2\n",
    "### Bidirectional LSTM Text Classifier"
   ]
  },
  {
   "cell_type": "code",
   "execution_count": 77,
   "id": "3cd81789-0a32-43ef-bb25-efe99404e829",
   "metadata": {},
   "outputs": [],
   "source": [
    "model2 = Sequential()\n",
    "model2.add(Embedding(100000, 128, input_length=10000))\n",
    "model2.add(Bidirectional(LSTM(128, return_sequences=True)))\n",
    "model2.add(Bidirectional(LSTM(64)))\n",
    "model2.add(Dense(len(labels), activation='softmax'))\n",
    "model2.compile(optimizer='adam', loss='sparse_categorical_crossentropy', metrics=['accuracy'])"
   ]
  },
  {
   "cell_type": "code",
   "execution_count": 81,
   "id": "29ffdac9-17ce-44bf-b9d6-ad6867df8541",
   "metadata": {},
   "outputs": [
    {
     "name": "stdout",
     "output_type": "stream",
     "text": [
      "Epoch 1/10\n",
      "\u001b[1m2/2\u001b[0m \u001b[32m━━━━━━━━━━━━━━━━━━━━\u001b[0m\u001b[37m\u001b[0m \u001b[1m14s\u001b[0m 2s/step - accuracy: 0.4506 - loss: 1.0987\n",
      "Epoch 2/10\n",
      "\u001b[1m2/2\u001b[0m \u001b[32m━━━━━━━━━━━━━━━━━━━━\u001b[0m\u001b[37m\u001b[0m \u001b[1m5s\u001b[0m 2s/step - accuracy: 0.4317 - loss: 1.0592\n",
      "Epoch 3/10\n",
      "\u001b[1m2/2\u001b[0m \u001b[32m━━━━━━━━━━━━━━━━━━━━\u001b[0m\u001b[37m\u001b[0m \u001b[1m5s\u001b[0m 2s/step - accuracy: 0.4213 - loss: 1.0294\n",
      "Epoch 4/10\n",
      "\u001b[1m2/2\u001b[0m \u001b[32m━━━━━━━━━━━━━━━━━━━━\u001b[0m\u001b[37m\u001b[0m \u001b[1m5s\u001b[0m 2s/step - accuracy: 0.4441 - loss: 0.9631\n",
      "Epoch 5/10\n",
      "\u001b[1m2/2\u001b[0m \u001b[32m━━━━━━━━━━━━━━━━━━━━\u001b[0m\u001b[37m\u001b[0m \u001b[1m5s\u001b[0m 2s/step - accuracy: 0.5266 - loss: 0.8466\n",
      "Epoch 6/10\n",
      "\u001b[1m2/2\u001b[0m \u001b[32m━━━━━━━━━━━━━━━━━━━━\u001b[0m\u001b[37m\u001b[0m \u001b[1m5s\u001b[0m 2s/step - accuracy: 0.7647 - loss: 0.6431\n",
      "Epoch 7/10\n",
      "\u001b[1m2/2\u001b[0m \u001b[32m━━━━━━━━━━━━━━━━━━━━\u001b[0m\u001b[37m\u001b[0m \u001b[1m5s\u001b[0m 2s/step - accuracy: 0.9194 - loss: 0.4509\n",
      "Epoch 8/10\n",
      "\u001b[1m2/2\u001b[0m \u001b[32m━━━━━━━━━━━━━━━━━━━━\u001b[0m\u001b[37m\u001b[0m \u001b[1m5s\u001b[0m 2s/step - accuracy: 0.7041 - loss: 0.9020\n",
      "Epoch 9/10\n",
      "\u001b[1m2/2\u001b[0m \u001b[32m━━━━━━━━━━━━━━━━━━━━\u001b[0m\u001b[37m\u001b[0m \u001b[1m5s\u001b[0m 2s/step - accuracy: 0.9877 - loss: 0.2424\n",
      "Epoch 10/10\n",
      "\u001b[1m2/2\u001b[0m \u001b[32m━━━━━━━━━━━━━━━━━━━━\u001b[0m\u001b[37m\u001b[0m \u001b[1m5s\u001b[0m 2s/step - accuracy: 0.9772 - loss: 0.1990\n"
     ]
    },
    {
     "data": {
      "text/plain": [
       "<keras.src.callbacks.history.History at 0x1a673043ef0>"
      ]
     },
     "execution_count": 81,
     "metadata": {},
     "output_type": "execute_result"
    }
   ],
   "source": [
    "model2.fit(np.array(data), np.asarray([labels_index[label] for label in labelsData]), epochs=10, batch_size=32)"
   ]
  },
  {
   "cell_type": "markdown",
   "id": "cb77c6a3-e695-43bb-a71b-3427fdbc3053",
   "metadata": {},
   "source": [
    "# Model 3\n",
    "### Bidirectional LSTM Text Classifier with Dropout"
   ]
  },
  {
   "cell_type": "code",
   "execution_count": 80,
   "id": "1b039467-1c41-419e-a7b7-28fa34bda041",
   "metadata": {},
   "outputs": [],
   "source": [
    "model3 = Sequential()\n",
    "model3.add(Embedding(100000, 128, input_length=10000))\n",
    "model3.add(Bidirectional(LSTM(64, return_sequences=True)))\n",
    "model3.add(Dropout(0.5))\n",
    "model3.add(Bidirectional(LSTM(32)))\n",
    "model3.add(Dense(len(labels), activation='softmax'))\n",
    "model3.compile(optimizer='adam', loss='sparse_categorical_crossentropy', metrics=['accuracy'])"
   ]
  },
  {
   "cell_type": "code",
   "execution_count": 82,
   "id": "3ede9a05-159c-4240-88f1-2f4b2b5ae095",
   "metadata": {},
   "outputs": [
    {
     "name": "stdout",
     "output_type": "stream",
     "text": [
      "Epoch 1/10\n",
      "\u001b[1m2/2\u001b[0m \u001b[32m━━━━━━━━━━━━━━━━━━━━\u001b[0m\u001b[37m\u001b[0m \u001b[1m12s\u001b[0m 2s/step - accuracy: 0.2477 - loss: 1.0984\n",
      "Epoch 2/10\n",
      "\u001b[1m2/2\u001b[0m \u001b[32m━━━━━━━━━━━━━━━━━━━━\u001b[0m\u001b[37m\u001b[0m \u001b[1m3s\u001b[0m 1s/step - accuracy: 0.4317 - loss: 1.0664\n",
      "Epoch 3/10\n",
      "\u001b[1m2/2\u001b[0m \u001b[32m━━━━━━━━━━━━━━━━━━━━\u001b[0m\u001b[37m\u001b[0m \u001b[1m3s\u001b[0m 2s/step - accuracy: 0.4317 - loss: 1.0400\n",
      "Epoch 4/10\n",
      "\u001b[1m2/2\u001b[0m \u001b[32m━━━━━━━━━━━━━━━━━━━━\u001b[0m\u001b[37m\u001b[0m \u001b[1m3s\u001b[0m 2s/step - accuracy: 0.4421 - loss: 1.0061\n",
      "Epoch 5/10\n",
      "\u001b[1m2/2\u001b[0m \u001b[32m━━━━━━━━━━━━━━━━━━━━\u001b[0m\u001b[37m\u001b[0m \u001b[1m3s\u001b[0m 2s/step - accuracy: 0.4734 - loss: 0.9422\n",
      "Epoch 6/10\n",
      "\u001b[1m2/2\u001b[0m \u001b[32m━━━━━━━━━━━━━━━━━━━━\u001b[0m\u001b[37m\u001b[0m \u001b[1m3s\u001b[0m 2s/step - accuracy: 0.4441 - loss: 0.8863\n",
      "Epoch 7/10\n",
      "\u001b[1m2/2\u001b[0m \u001b[32m━━━━━━━━━━━━━━━━━━━━\u001b[0m\u001b[37m\u001b[0m \u001b[1m3s\u001b[0m 2s/step - accuracy: 0.7685 - loss: 0.7641\n",
      "Epoch 8/10\n",
      "\u001b[1m2/2\u001b[0m \u001b[32m━━━━━━━━━━━━━━━━━━━━\u001b[0m\u001b[37m\u001b[0m \u001b[1m3s\u001b[0m 2s/step - accuracy: 0.7334 - loss: 0.6403\n",
      "Epoch 9/10\n",
      "\u001b[1m2/2\u001b[0m \u001b[32m━━━━━━━━━━━━━━━━━━━━\u001b[0m\u001b[37m\u001b[0m \u001b[1m3s\u001b[0m 1s/step - accuracy: 0.7191 - loss: 0.5539\n",
      "Epoch 10/10\n",
      "\u001b[1m2/2\u001b[0m \u001b[32m━━━━━━━━━━━━━━━━━━━━\u001b[0m\u001b[37m\u001b[0m \u001b[1m3s\u001b[0m 1s/step - accuracy: 0.8700 - loss: 0.4629\n"
     ]
    },
    {
     "data": {
      "text/plain": [
       "<keras.src.callbacks.history.History at 0x1a66a188740>"
      ]
     },
     "execution_count": 82,
     "metadata": {},
     "output_type": "execute_result"
    }
   ],
   "source": [
    "model3.fit(np.array(data), np.asarray([labels_index[label] for label in labelsData]), epochs=10, batch_size=32)"
   ]
  },
  {
   "cell_type": "code",
   "execution_count": 103,
   "id": "b08b8233-ac2b-4d5a-bf23-f36ec449e45c",
   "metadata": {},
   "outputs": [
    {
     "name": "stdout",
     "output_type": "stream",
     "text": [
      "\u001b[1m1/1\u001b[0m \u001b[32m━━━━━━━━━━━━━━━━━━━━\u001b[0m\u001b[37m\u001b[0m \u001b[1m0s\u001b[0m 155ms/step\n",
      "this text is written in: react (model1)\n",
      "\u001b[1m1/1\u001b[0m \u001b[32m━━━━━━━━━━━━━━━━━━━━\u001b[0m\u001b[37m\u001b[0m \u001b[1m0s\u001b[0m 145ms/step\n",
      "this text is written in: react (model2)\n",
      "\u001b[1m1/1\u001b[0m \u001b[32m━━━━━━━━━━━━━━━━━━━━\u001b[0m\u001b[37m\u001b[0m \u001b[1m0s\u001b[0m 128ms/step\n",
      "this text is written in: react (model2)\n"
     ]
    }
   ],
   "source": [
    "react_text = '''\n",
    "import Container from './components/Container.js';\n",
    "import Header from './components/Header.js';\n",
    "function App() {\n",
    "  return (\n",
    "     <Container>\n",
    "      <Header />\n",
    "\n",
    "    </Container>\n",
    "  );\n",
    "}\n",
    "export default App;\n",
    "'''\n",
    "sequence = tokenizer.texts_to_sequences([react_text])\n",
    "data = pad_sequences(sequence, maxlen=1000)\n",
    "\n",
    "predicted_probs = model.predict(data)\n",
    "predicted_label_index = np.argmax(predicted_probs)\n",
    "print(f\"this text is written in: {labels[predicted_label_index]} (model1)\")\n",
    "\n",
    "predicted_probs = model2.predict(data)\n",
    "predicted_label_index = np.argmax(predicted_probs)\n",
    "print(f\"this text is written in: {labels[predicted_label_index]} (model2)\")\n",
    "\n",
    "\n",
    "predicted_probs = model3.predict(data)\n",
    "predicted_label_index = np.argmax(predicted_probs)\n",
    "print(f\"this text is written in: {labels[predicted_label_index]} (model2)\")\n"
   ]
  },
  {
   "cell_type": "code",
   "execution_count": 104,
   "id": "c8aebc4b-072e-4701-b227-40993fdafe56",
   "metadata": {},
   "outputs": [
    {
     "name": "stdout",
     "output_type": "stream",
     "text": [
      "\u001b[1m1/1\u001b[0m \u001b[32m━━━━━━━━━━━━━━━━━━━━\u001b[0m\u001b[37m\u001b[0m \u001b[1m0s\u001b[0m 233ms/step\n",
      "this text is written in: angular (model1)\n",
      "\u001b[1m1/1\u001b[0m \u001b[32m━━━━━━━━━━━━━━━━━━━━\u001b[0m\u001b[37m\u001b[0m \u001b[1m0s\u001b[0m 149ms/step\n",
      "this text is written in: vue (model2)\n",
      "\u001b[1m1/1\u001b[0m \u001b[32m━━━━━━━━━━━━━━━━━━━━\u001b[0m\u001b[37m\u001b[0m \u001b[1m0s\u001b[0m 196ms/step\n",
      "this text is written in: vue (model2)\n"
     ]
    }
   ],
   "source": [
    "vue_text = '''\n",
    "<template>\n",
    "    <div>\n",
    "        <ul>\n",
    "        </ul>\n",
    "    </div>\n",
    "</template>\n",
    "<script>\n",
    "\n",
    "export default {\n",
    "    props: {\n",
    "        win: {\n",
    "            type: Boolean\n",
    "        }\n",
    "    },\n",
    "}\n",
    "</script>\n",
    "<style>\n",
    "\n",
    "ul {\n",
    "    list-style-type: none;\n",
    "}\n",
    "</style>\n",
    "'''\n",
    "sequence = tokenizer.texts_to_sequences([vue_text])\n",
    "data = pad_sequences(sequence, maxlen=1000)\n",
    "\n",
    "predicted_probs = model.predict(data)\n",
    "predicted_label_index = np.argmax(predicted_probs)\n",
    "print(f\"this text is written in: {labels[predicted_label_index]} (model1)\")\n",
    "\n",
    "predicted_probs = model2.predict(data)\n",
    "predicted_label_index = np.argmax(predicted_probs)\n",
    "print(f\"this text is written in: {labels[predicted_label_index]} (model2)\")\n",
    "\n",
    "\n",
    "predicted_probs = model3.predict(data)\n",
    "predicted_label_index = np.argmax(predicted_probs)\n",
    "print(f\"this text is written in: {labels[predicted_label_index]} (model2)\")"
   ]
  },
  {
   "cell_type": "code",
   "execution_count": 106,
   "id": "7e4eb038-be96-4e16-8242-754a325c8756",
   "metadata": {},
   "outputs": [
    {
     "name": "stdout",
     "output_type": "stream",
     "text": [
      "\u001b[1m1/1\u001b[0m \u001b[32m━━━━━━━━━━━━━━━━━━━━\u001b[0m\u001b[37m\u001b[0m \u001b[1m0s\u001b[0m 167ms/step\n",
      "this text is written in: angular (model1)\n",
      "\u001b[1m1/1\u001b[0m \u001b[32m━━━━━━━━━━━━━━━━━━━━\u001b[0m\u001b[37m\u001b[0m \u001b[1m0s\u001b[0m 180ms/step\n",
      "this text is written in: angular (model2)\n",
      "\u001b[1m1/1\u001b[0m \u001b[32m━━━━━━━━━━━━━━━━━━━━\u001b[0m\u001b[37m\u001b[0m \u001b[1m0s\u001b[0m 172ms/step\n",
      "this text is written in: angular (model2)\n"
     ]
    }
   ],
   "source": [
    "angular_text = '''\n",
    "import { Component, Injectable } from '@angular/core';\n",
    "import { FormsModule } from '@angular/forms';\n",
    "\n",
    "\n",
    "@Component({\n",
    "    selector: 'app-datepicker-basic',\n",
    "    templateUrl: './datepicker.component.html',\n",
    "    standalone: true,\n",
    "    imports: [FormsModule],\n",
    "  ],\n",
    "})\n",
    "export class NgbdDatepickerBasicComponent {\n",
    "  model: NgbDateStruct;\n",
    "  disabled = true;\n",
    "  today = this.calendar.getToday();\n",
    "\n",
    "  constructor(private calendar: NgbCalendar) {\n",
    "    this.model = calendar.getToday();\n",
    "  }\n",
    "}\n",
    "\n",
    "'''\n",
    "sequence = tokenizer.texts_to_sequences([angular_text])\n",
    "data = pad_sequences(sequence, maxlen=1000)\n",
    "\n",
    "predicted_probs = model.predict(data)\n",
    "predicted_label_index = np.argmax(predicted_probs)\n",
    "print(f\"this text is written in: {labels[predicted_label_index]} (model1)\")\n",
    "\n",
    "predicted_probs = model2.predict(data)\n",
    "predicted_label_index = np.argmax(predicted_probs)\n",
    "print(f\"this text is written in: {labels[predicted_label_index]} (model2)\")\n",
    "\n",
    "\n",
    "predicted_probs = model3.predict(data)\n",
    "predicted_label_index = np.argmax(predicted_probs)\n",
    "print(f\"this text is written in: {labels[predicted_label_index]} (model2)\")"
   ]
  }
 ],
 "metadata": {
  "kernelspec": {
   "display_name": "Python 3 (ipykernel)",
   "language": "python",
   "name": "python3"
  },
  "language_info": {
   "codemirror_mode": {
    "name": "ipython",
    "version": 3
   },
   "file_extension": ".py",
   "mimetype": "text/x-python",
   "name": "python",
   "nbconvert_exporter": "python",
   "pygments_lexer": "ipython3",
   "version": "3.12.1"
  }
 },
 "nbformat": 4,
 "nbformat_minor": 5
}
